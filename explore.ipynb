{
 "cells": [
  {
   "cell_type": "markdown",
   "id": "f463d6e9",
   "metadata": {},
   "source": [
    "# dependencies"
   ]
  },
  {
   "cell_type": "code",
   "execution_count": 1,
   "id": "87310766",
   "metadata": {},
   "outputs": [
    {
     "name": "stdout",
     "output_type": "stream",
     "text": [
      "Requirement already satisfied: folium in /usr/local/anaconda3/lib/python3.9/site-packages (0.14.0)\n",
      "Requirement already satisfied: branca>=0.6.0 in /usr/local/anaconda3/lib/python3.9/site-packages (from folium) (0.6.0)\n",
      "Requirement already satisfied: numpy in /usr/local/anaconda3/lib/python3.9/site-packages (from folium) (1.23.5)\n",
      "Requirement already satisfied: requests in /usr/local/anaconda3/lib/python3.9/site-packages (from folium) (2.28.1)\n",
      "Requirement already satisfied: jinja2>=2.9 in /usr/local/anaconda3/lib/python3.9/site-packages (from folium) (2.11.3)\n",
      "Requirement already satisfied: MarkupSafe>=0.23 in /usr/local/anaconda3/lib/python3.9/site-packages (from jinja2>=2.9->folium) (2.0.1)\n",
      "Requirement already satisfied: certifi>=2017.4.17 in /usr/local/anaconda3/lib/python3.9/site-packages (from requests->folium) (2022.9.24)\n",
      "Requirement already satisfied: idna<4,>=2.5 in /usr/local/anaconda3/lib/python3.9/site-packages (from requests->folium) (3.3)\n",
      "Requirement already satisfied: charset-normalizer<3,>=2 in /usr/local/anaconda3/lib/python3.9/site-packages (from requests->folium) (2.0.4)\n",
      "Requirement already satisfied: urllib3<1.27,>=1.21.1 in /usr/local/anaconda3/lib/python3.9/site-packages (from requests->folium) (1.26.11)\n"
     ]
    }
   ],
   "source": [
    "!pip install folium"
   ]
  },
  {
   "cell_type": "markdown",
   "id": "2e02a133",
   "metadata": {},
   "source": [
    "# import"
   ]
  },
  {
   "cell_type": "code",
   "execution_count": 2,
   "id": "31bafea2",
   "metadata": {},
   "outputs": [],
   "source": [
    "import pandas as pd \n",
    "import numpy as np \n",
    "\n",
    "import folium"
   ]
  },
  {
   "cell_type": "code",
   "execution_count": 3,
   "id": "0506bb5b",
   "metadata": {},
   "outputs": [],
   "source": [
    "crash = pd.read_csv('crash.csv')"
   ]
  },
  {
   "cell_type": "code",
   "execution_count": 4,
   "id": "c0e8e2f9",
   "metadata": {},
   "outputs": [],
   "source": [
    "# 'Troop','County','Incident#','Unnamed: 0','Investigated By' dropped because they were not helpful\n",
    "crash.drop(columns= ['Troop','County','Incident#','Unnamed: 0','Investigated By'],inplace=True)"
   ]
  },
  {
   "cell_type": "code",
   "execution_count": 5,
   "id": "214f563f",
   "metadata": {},
   "outputs": [],
   "source": [
    "crash.rename(columns={'GPS Latitude':'latitude','GPS Longitude':'longitude'},inplace = True)"
   ]
  },
  {
   "cell_type": "code",
   "execution_count": 7,
   "id": "06872047",
   "metadata": {},
   "outputs": [],
   "source": [
    "# drop rows with index 1 and 3\n",
    "# crash = crash.drop(index=[69, 144, 98, 43, 101, 116, 117, 118, 119])\n",
    "crash = crash.drop(index=[119,118,43])"
   ]
  },
  {
   "cell_type": "markdown",
   "id": "ec1ec063",
   "metadata": {},
   "source": [
    "# folium"
   ]
  },
  {
   "cell_type": "code",
   "execution_count": 8,
   "id": "08b9e40d",
   "metadata": {},
   "outputs": [],
   "source": [
    "maps = folium.Map(location=[crash['latitude'].mean(), crash['longitude'].mean()], zoom_start=10)\n"
   ]
  },
  {
   "cell_type": "code",
   "execution_count": 9,
   "id": "1f24f394",
   "metadata": {},
   "outputs": [],
   "source": [
    "for index, row in crash.iterrows():\n",
    "    folium.Marker(location=[row['latitude'], row['longitude']]).add_to(maps)\n"
   ]
  },
  {
   "cell_type": "code",
   "execution_count": 10,
   "id": "d70f6957",
   "metadata": {},
   "outputs": [],
   "source": [
    "maps.save('map.html')"
   ]
  },
  {
   "cell_type": "markdown",
   "id": "00ce9d0f",
   "metadata": {},
   "source": [
    "# folium"
   ]
  },
  {
   "cell_type": "code",
   "execution_count": 11,
   "id": "062f4dcc",
   "metadata": {
    "scrolled": true
   },
   "outputs": [
    {
     "data": {
      "text/html": [
       "\n",
       "        <iframe\n",
       "            width=\"700\"\n",
       "            height=\"600\"\n",
       "            src=\"map.html\"\n",
       "            frameborder=\"0\"\n",
       "            allowfullscreen\n",
       "            \n",
       "        ></iframe>\n",
       "        "
      ],
      "text/plain": [
       "<IPython.lib.display.IFrame at 0x7fc7bf035cd0>"
      ]
     },
     "execution_count": 11,
     "metadata": {},
     "output_type": "execute_result"
    }
   ],
   "source": [
    "from IPython.display import IFrame\n",
    "\n",
    "IFrame(src='map.html', width=700, height=600)\n"
   ]
  },
  {
   "cell_type": "code",
   "execution_count": 12,
   "id": "a5057bbe",
   "metadata": {},
   "outputs": [],
   "source": [
    "from math import radians, sin, cos, sqrt, atan2\n",
    "\n",
    "def distance(lat1, lon1, lat2, lon2):\n",
    "    R = 6371  # radius of the Earth in kilometers\n",
    "\n",
    "    # convert decimal degrees to radians\n",
    "    lat1 = radians(lat1)\n",
    "    lon1 = radians(lon1)\n",
    "    lat2 = radians(lat2)\n",
    "    lon2 = radians(lon2)\n",
    "\n",
    "    # Haversine formula\n",
    "    dlat = lat2 - lat1\n",
    "    dlon = lon2 - lon1\n",
    "    a = sin(dlat / 2) ** 2 + cos(lat1) * cos(lat2) * sin(dlon / 2) ** 2\n",
    "    c = 2 * atan2(sqrt(a), sqrt(1 - a))\n",
    "    d = R * c\n",
    "\n",
    "    return d"
   ]
  },
  {
   "cell_type": "code",
   "execution_count": 13,
   "id": "a99f820f",
   "metadata": {},
   "outputs": [
    {
     "name": "stdout",
     "output_type": "stream",
     "text": [
      "Point (37.7763, -122.4245) is within 1 miles of the center point\n",
      "Point (37.7751, -122.4181) is within 1 miles of the center point\n",
      "Point (37.7702, -122.4124) is within 1 miles of the center point\n",
      "Point (37.7815, -122.4058) is outside 1 miles of the center point\n"
     ]
    }
   ],
   "source": [
    "# center point coordinates\n",
    "center_lat = 37.7749\n",
    "center_lon = -122.4194\n",
    "\n",
    "# list of other points with coordinates\n",
    "points = [\n",
    "    {'lat': 37.7763, 'lon': -122.4245},\n",
    "    {'lat': 37.7751, 'lon': -122.4181},\n",
    "    {'lat': 37.7702, 'lon': -122.4124},\n",
    "    {'lat': 37.7815, 'lon': -122.4058},\n",
    "]\n",
    "\n",
    "# radius in miles\n",
    "radius = 1\n",
    "\n",
    "# check if each point is within the radius\n",
    "for point in points:\n",
    "    d = distance(center_lat, center_lon, point['lat'], point['lon'])\n",
    "    if d <= radius:\n",
    "        print(f\"Point ({point['lat']}, {point['lon']}) is within {radius} miles of the center point\")\n",
    "    else:\n",
    "        print(f\"Point ({point['lat']}, {point['lon']}) is outside {radius} miles of the center point\")\n"
   ]
  },
  {
   "cell_type": "markdown",
   "id": "60ecb5aa",
   "metadata": {},
   "source": [
    "# Date Time"
   ]
  },
  {
   "cell_type": "code",
   "execution_count": 14,
   "id": "4818a773",
   "metadata": {},
   "outputs": [
    {
     "data": {
      "text/html": [
       "<div>\n",
       "<style scoped>\n",
       "    .dataframe tbody tr th:only-of-type {\n",
       "        vertical-align: middle;\n",
       "    }\n",
       "\n",
       "    .dataframe tbody tr th {\n",
       "        vertical-align: top;\n",
       "    }\n",
       "\n",
       "    .dataframe thead th {\n",
       "        text-align: right;\n",
       "    }\n",
       "</style>\n",
       "<table border=\"1\" class=\"dataframe\">\n",
       "  <thead>\n",
       "    <tr style=\"text-align: right;\">\n",
       "      <th></th>\n",
       "      <th>latitude</th>\n",
       "      <th>longitude</th>\n",
       "      <th>Date</th>\n",
       "      <th>Time</th>\n",
       "      <th>Location</th>\n",
       "    </tr>\n",
       "  </thead>\n",
       "  <tbody>\n",
       "    <tr>\n",
       "      <th>0</th>\n",
       "      <td>37.078278</td>\n",
       "      <td>-93.877861</td>\n",
       "      <td>04/27/2023</td>\n",
       "      <td>5:15PM</td>\n",
       "      <td>I-44 WESTBOUND AT THE 42.2 MM, 3 MILES WEST OF...</td>\n",
       "    </tr>\n",
       "    <tr>\n",
       "      <th>1</th>\n",
       "      <td>37.078278</td>\n",
       "      <td>-93.877861</td>\n",
       "      <td>04/27/2023</td>\n",
       "      <td>5:15PM</td>\n",
       "      <td>I-44 WESTBOUND AT THE 42.2 MM, 3 MILES WEST OF...</td>\n",
       "    </tr>\n",
       "    <tr>\n",
       "      <th>2</th>\n",
       "      <td>37.086639</td>\n",
       "      <td>-93.847805</td>\n",
       "      <td>04/26/2023</td>\n",
       "      <td>4:45PM</td>\n",
       "      <td>HWY H 1/2 MILE SOUTH OF MOUNT VERNON</td>\n",
       "    </tr>\n",
       "    <tr>\n",
       "      <th>3</th>\n",
       "      <td>37.023417</td>\n",
       "      <td>-93.969500</td>\n",
       "      <td>04/22/2023</td>\n",
       "      <td>2:50AM</td>\n",
       "      <td>COUNTY ROAD 1050 THREE MILES NORTH OF PIERCE CITY</td>\n",
       "    </tr>\n",
       "    <tr>\n",
       "      <th>4</th>\n",
       "      <td>36.942694</td>\n",
       "      <td>-93.927277</td>\n",
       "      <td>04/19/2023</td>\n",
       "      <td>2:40PM</td>\n",
       "      <td>MO37 ONE MILE NORTH OF PIERCE CITY, MO</td>\n",
       "    </tr>\n",
       "    <tr>\n",
       "      <th>...</th>\n",
       "      <td>...</td>\n",
       "      <td>...</td>\n",
       "      <td>...</td>\n",
       "      <td>...</td>\n",
       "      <td>...</td>\n",
       "    </tr>\n",
       "    <tr>\n",
       "      <th>147</th>\n",
       "      <td>37.074917</td>\n",
       "      <td>-93.965138</td>\n",
       "      <td>05/19/2022</td>\n",
       "      <td>8:27AM</td>\n",
       "      <td>I44 7 MILES WEST OF MOUNT VERNON</td>\n",
       "    </tr>\n",
       "    <tr>\n",
       "      <th>148</th>\n",
       "      <td>37.075611</td>\n",
       "      <td>-93.975027</td>\n",
       "      <td>05/17/2022</td>\n",
       "      <td>2:34AM</td>\n",
       "      <td>EASTBOUND I44, 1 MILE WEST OF STOTTS CITY</td>\n",
       "    </tr>\n",
       "    <tr>\n",
       "      <th>149</th>\n",
       "      <td>37.075611</td>\n",
       "      <td>-93.975027</td>\n",
       "      <td>05/17/2022</td>\n",
       "      <td>2:34AM</td>\n",
       "      <td>EASTBOUND I44, 1 MILE WEST OF STOTTS CITY</td>\n",
       "    </tr>\n",
       "    <tr>\n",
       "      <th>150</th>\n",
       "      <td>37.024778</td>\n",
       "      <td>-93.641502</td>\n",
       "      <td>05/11/2022</td>\n",
       "      <td>1:02AM</td>\n",
       "      <td>LAWRENCE 2170 1 MILE NORTH OF MARIONVILLE</td>\n",
       "    </tr>\n",
       "    <tr>\n",
       "      <th>151</th>\n",
       "      <td>37.060333</td>\n",
       "      <td>-93.627583</td>\n",
       "      <td>05/10/2022</td>\n",
       "      <td>4:35PM</td>\n",
       "      <td>ROUTE T 3 MILES NORTH OF MARIONVILLE</td>\n",
       "    </tr>\n",
       "  </tbody>\n",
       "</table>\n",
       "<p>149 rows × 5 columns</p>\n",
       "</div>"
      ],
      "text/plain": [
       "      latitude  longitude        Date    Time  \\\n",
       "0    37.078278 -93.877861  04/27/2023  5:15PM   \n",
       "1    37.078278 -93.877861  04/27/2023  5:15PM   \n",
       "2    37.086639 -93.847805  04/26/2023  4:45PM   \n",
       "3    37.023417 -93.969500  04/22/2023  2:50AM   \n",
       "4    36.942694 -93.927277  04/19/2023  2:40PM   \n",
       "..         ...        ...         ...     ...   \n",
       "147  37.074917 -93.965138  05/19/2022  8:27AM   \n",
       "148  37.075611 -93.975027  05/17/2022  2:34AM   \n",
       "149  37.075611 -93.975027  05/17/2022  2:34AM   \n",
       "150  37.024778 -93.641502  05/11/2022  1:02AM   \n",
       "151  37.060333 -93.627583  05/10/2022  4:35PM   \n",
       "\n",
       "                                              Location  \n",
       "0    I-44 WESTBOUND AT THE 42.2 MM, 3 MILES WEST OF...  \n",
       "1    I-44 WESTBOUND AT THE 42.2 MM, 3 MILES WEST OF...  \n",
       "2                 HWY H 1/2 MILE SOUTH OF MOUNT VERNON  \n",
       "3    COUNTY ROAD 1050 THREE MILES NORTH OF PIERCE CITY  \n",
       "4               MO37 ONE MILE NORTH OF PIERCE CITY, MO  \n",
       "..                                                 ...  \n",
       "147                   I44 7 MILES WEST OF MOUNT VERNON  \n",
       "148          EASTBOUND I44, 1 MILE WEST OF STOTTS CITY  \n",
       "149          EASTBOUND I44, 1 MILE WEST OF STOTTS CITY  \n",
       "150          LAWRENCE 2170 1 MILE NORTH OF MARIONVILLE  \n",
       "151               ROUTE T 3 MILES NORTH OF MARIONVILLE  \n",
       "\n",
       "[149 rows x 5 columns]"
      ]
     },
     "execution_count": 14,
     "metadata": {},
     "output_type": "execute_result"
    }
   ],
   "source": [
    "crash"
   ]
  },
  {
   "cell_type": "code",
   "execution_count": 15,
   "id": "20627bf1",
   "metadata": {},
   "outputs": [],
   "source": [
    "def combine_date_time(df):\n",
    "    # Convert 'Date' and 'Time' columns to datetime format\n",
    "    df['Date'] = pd.to_datetime(df['Date'])\n",
    "    df['Time'] = pd.to_datetime(df['Time'], format='%I:%M%p').dt.time\n",
    "\n",
    "    # Combine 'Date' and 'Time' columns into new 'datetimes' column\n",
    "    df['datetimes'] = pd.to_datetime(df['Date'].astype(str) + ' ' + df['Time'].astype(str))\n",
    "\n",
    "    return df\n"
   ]
  },
  {
   "cell_type": "code",
   "execution_count": 16,
   "id": "b3d595ae",
   "metadata": {},
   "outputs": [],
   "source": [
    "crash = combine_date_time(crash)"
   ]
  },
  {
   "cell_type": "code",
   "execution_count": 18,
   "id": "790a38fd",
   "metadata": {
    "scrolled": true
   },
   "outputs": [
    {
     "data": {
      "text/html": [
       "<div>\n",
       "<style scoped>\n",
       "    .dataframe tbody tr th:only-of-type {\n",
       "        vertical-align: middle;\n",
       "    }\n",
       "\n",
       "    .dataframe tbody tr th {\n",
       "        vertical-align: top;\n",
       "    }\n",
       "\n",
       "    .dataframe thead th {\n",
       "        text-align: right;\n",
       "    }\n",
       "</style>\n",
       "<table border=\"1\" class=\"dataframe\">\n",
       "  <thead>\n",
       "    <tr style=\"text-align: right;\">\n",
       "      <th></th>\n",
       "      <th>latitude</th>\n",
       "      <th>longitude</th>\n",
       "      <th>Date</th>\n",
       "      <th>Time</th>\n",
       "      <th>Location</th>\n",
       "      <th>datetimes</th>\n",
       "    </tr>\n",
       "  </thead>\n",
       "  <tbody>\n",
       "    <tr>\n",
       "      <th>81</th>\n",
       "      <td>37.188241</td>\n",
       "      <td>-93.760039</td>\n",
       "      <td>2023-04-10</td>\n",
       "      <td>23:50:00</td>\n",
       "      <td>MO 96 8.5 MILES NORTHEAST OF MOUNT VERNON</td>\n",
       "      <td>2023-04-10 23:50:00</td>\n",
       "    </tr>\n",
       "    <tr>\n",
       "      <th>33</th>\n",
       "      <td>37.131805</td>\n",
       "      <td>-93.734666</td>\n",
       "      <td>2022-11-05</td>\n",
       "      <td>23:50:00</td>\n",
       "      <td>I 44 5 MILES EAST OF MT VERNON</td>\n",
       "      <td>2022-11-05 23:50:00</td>\n",
       "    </tr>\n",
       "    <tr>\n",
       "      <th>109</th>\n",
       "      <td>37.131805</td>\n",
       "      <td>-93.734666</td>\n",
       "      <td>2022-11-05</td>\n",
       "      <td>23:50:00</td>\n",
       "      <td>I 44 5 MILES EAST OF MT VERNON</td>\n",
       "      <td>2022-11-05 23:50:00</td>\n",
       "    </tr>\n",
       "    <tr>\n",
       "      <th>79</th>\n",
       "      <td>37.139500</td>\n",
       "      <td>-93.984472</td>\n",
       "      <td>2023-04-21</td>\n",
       "      <td>23:45:00</td>\n",
       "      <td>COUNTY ROAD 1040 2 MILES NORTH OF STOTTS CITY</td>\n",
       "      <td>2023-04-21 23:45:00</td>\n",
       "    </tr>\n",
       "    <tr>\n",
       "      <th>111</th>\n",
       "      <td>37.086333</td>\n",
       "      <td>-93.851225</td>\n",
       "      <td>2022-10-10</td>\n",
       "      <td>23:07:00</td>\n",
       "      <td>I-44 1 MILE WEST OF MOUNT VERNON</td>\n",
       "      <td>2022-10-10 23:07:00</td>\n",
       "    </tr>\n",
       "    <tr>\n",
       "      <th>...</th>\n",
       "      <td>...</td>\n",
       "      <td>...</td>\n",
       "      <td>...</td>\n",
       "      <td>...</td>\n",
       "      <td>...</td>\n",
       "      <td>...</td>\n",
       "    </tr>\n",
       "    <tr>\n",
       "      <th>38</th>\n",
       "      <td>36.984322</td>\n",
       "      <td>-93.749750</td>\n",
       "      <td>2022-09-26</td>\n",
       "      <td>02:20:00</td>\n",
       "      <td>LAWRENCE 2200 1 MILE WEST OF AURORA</td>\n",
       "      <td>2022-09-26 02:20:00</td>\n",
       "    </tr>\n",
       "    <tr>\n",
       "      <th>54</th>\n",
       "      <td>37.218000</td>\n",
       "      <td>-93.785722</td>\n",
       "      <td>2022-07-30</td>\n",
       "      <td>02:00:00</td>\n",
       "      <td>LAWRENCE 2040 THREE MILES EAST OF MILLER</td>\n",
       "      <td>2022-07-30 02:00:00</td>\n",
       "    </tr>\n",
       "    <tr>\n",
       "      <th>115</th>\n",
       "      <td>37.089345</td>\n",
       "      <td>-93.810720</td>\n",
       "      <td>2022-09-16</td>\n",
       "      <td>01:40:00</td>\n",
       "      <td>I44 IN MOUNT VERNON</td>\n",
       "      <td>2022-09-16 01:40:00</td>\n",
       "    </tr>\n",
       "    <tr>\n",
       "      <th>80</th>\n",
       "      <td>36.957890</td>\n",
       "      <td>-93.996246</td>\n",
       "      <td>2023-04-19</td>\n",
       "      <td>01:25:00</td>\n",
       "      <td>LAWRENCE COUNTY ROAD 1036 .25 MILES EAST OF PI...</td>\n",
       "      <td>2023-04-19 01:25:00</td>\n",
       "    </tr>\n",
       "    <tr>\n",
       "      <th>150</th>\n",
       "      <td>37.024778</td>\n",
       "      <td>-93.641502</td>\n",
       "      <td>2022-05-11</td>\n",
       "      <td>01:02:00</td>\n",
       "      <td>LAWRENCE 2170 1 MILE NORTH OF MARIONVILLE</td>\n",
       "      <td>2022-05-11 01:02:00</td>\n",
       "    </tr>\n",
       "  </tbody>\n",
       "</table>\n",
       "<p>149 rows × 6 columns</p>\n",
       "</div>"
      ],
      "text/plain": [
       "      latitude  longitude       Date      Time  \\\n",
       "81   37.188241 -93.760039 2023-04-10  23:50:00   \n",
       "33   37.131805 -93.734666 2022-11-05  23:50:00   \n",
       "109  37.131805 -93.734666 2022-11-05  23:50:00   \n",
       "79   37.139500 -93.984472 2023-04-21  23:45:00   \n",
       "111  37.086333 -93.851225 2022-10-10  23:07:00   \n",
       "..         ...        ...        ...       ...   \n",
       "38   36.984322 -93.749750 2022-09-26  02:20:00   \n",
       "54   37.218000 -93.785722 2022-07-30  02:00:00   \n",
       "115  37.089345 -93.810720 2022-09-16  01:40:00   \n",
       "80   36.957890 -93.996246 2023-04-19  01:25:00   \n",
       "150  37.024778 -93.641502 2022-05-11  01:02:00   \n",
       "\n",
       "                                              Location           datetimes  \n",
       "81           MO 96 8.5 MILES NORTHEAST OF MOUNT VERNON 2023-04-10 23:50:00  \n",
       "33                      I 44 5 MILES EAST OF MT VERNON 2022-11-05 23:50:00  \n",
       "109                     I 44 5 MILES EAST OF MT VERNON 2022-11-05 23:50:00  \n",
       "79       COUNTY ROAD 1040 2 MILES NORTH OF STOTTS CITY 2023-04-21 23:45:00  \n",
       "111                   I-44 1 MILE WEST OF MOUNT VERNON 2022-10-10 23:07:00  \n",
       "..                                                 ...                 ...  \n",
       "38                 LAWRENCE 2200 1 MILE WEST OF AURORA 2022-09-26 02:20:00  \n",
       "54            LAWRENCE 2040 THREE MILES EAST OF MILLER 2022-07-30 02:00:00  \n",
       "115                                I44 IN MOUNT VERNON 2022-09-16 01:40:00  \n",
       "80   LAWRENCE COUNTY ROAD 1036 .25 MILES EAST OF PI... 2023-04-19 01:25:00  \n",
       "150          LAWRENCE 2170 1 MILE NORTH OF MARIONVILLE 2022-05-11 01:02:00  \n",
       "\n",
       "[149 rows x 6 columns]"
      ]
     },
     "execution_count": 18,
     "metadata": {},
     "output_type": "execute_result"
    }
   ],
   "source": [
    "crash.sort_values('Time', ascending= False)"
   ]
  },
  {
   "cell_type": "code",
   "execution_count": 29,
   "id": "fcd5a41b",
   "metadata": {
    "scrolled": true
   },
   "outputs": [
    {
     "data": {
      "text/plain": [
       "Time\n",
       "17:15:00    8\n",
       "16:45:00    7\n",
       "02:34:00    5\n",
       "13:23:00    5\n",
       "12:10:00    5\n",
       "13:03:00    3\n",
       "08:27:00    3\n",
       "23:07:00    3\n",
       "22:45:00    3\n",
       "16:35:00    3\n",
       "dtype: int64"
      ]
     },
     "execution_count": 29,
     "metadata": {},
     "output_type": "execute_result"
    }
   ],
   "source": [
    "crash.value_counts('Time').head(10)"
   ]
  },
  {
   "cell_type": "code",
   "execution_count": 32,
   "id": "4da8c077",
   "metadata": {
    "scrolled": false
   },
   "outputs": [
    {
     "data": {
      "image/png": "[encoded data removed]",
      "text/plain": [
       "<Figure size 640x480 with 1 Axes>"
      ]
     },
     "metadata": {},
     "output_type": "display_data"
    }
   ],
   "source": [
    "import pandas as pd\n",
    "import matplotlib.pyplot as plt\n",
    "\n",
    "# Assuming 'crash' is a DataFrame containing the 'Time' column\n",
    "time_counts = crash['Time'].value_counts().head(10)\n",
    "\n",
    "# Create horizontal bar plot of value counts\n",
    "time_counts.plot(kind='barh')\n",
    "\n",
    "# Invert y-axis to show most common value on top\n",
    "plt.gca().invert_yaxis()\n",
    "\n",
    "# Set plot title and axis labels\n",
    "plt.title('Number of crashes by time of day')\n",
    "plt.xlabel('Number of crashes')\n",
    "plt.ylabel('Time of day')\n",
    "\n",
    "# Display the plot\n",
    "plt.show()\n"
   ]
  },
  {
   "cell_type": "code",
   "execution_count": null,
   "id": "7221a719",
   "metadata": {},
   "outputs": [],
   "source": []
  },
  {
   "cell_type": "code",
   "execution_count": null,
   "id": "6b50be02",
   "metadata": {},
   "outputs": [],
   "source": []
  },
  {
   "cell_type": "code",
   "execution_count": null,
   "id": "f77e0aba",
   "metadata": {},
   "outputs": [],
   "source": []
  },
  {
   "cell_type": "code",
   "execution_count": null,
   "id": "ca10db6e",
   "metadata": {},
   "outputs": [],
   "source": []
  },
  {
   "cell_type": "code",
   "execution_count": null,
   "id": "e57ab811",
   "metadata": {},
   "outputs": [],
   "source": []
  },
  {
   "cell_type": "code",
   "execution_count": null,
   "id": "b5533c9b",
   "metadata": {},
   "outputs": [],
   "source": []
  },
  {
   "cell_type": "code",
   "execution_count": null,
   "id": "ccb15d8d",
   "metadata": {},
   "outputs": [],
   "source": []
  },
  {
   "cell_type": "code",
   "execution_count": null,
   "id": "0d1ee6dc",
   "metadata": {},
   "outputs": [],
   "source": []
  },
  {
   "cell_type": "code",
   "execution_count": null,
   "id": "06f3554f",
   "metadata": {},
   "outputs": [],
   "source": []
  },
  {
   "cell_type": "code",
   "execution_count": null,
   "id": "b8959b91",
   "metadata": {},
   "outputs": [],
   "source": []
  },
  {
   "cell_type": "code",
   "execution_count": null,
   "id": "fbc5fd9c",
   "metadata": {},
   "outputs": [],
   "source": []
  },
  {
   "cell_type": "code",
   "execution_count": null,
   "id": "6f950e27",
   "metadata": {},
   "outputs": [],
   "source": []
  },
  {
   "cell_type": "code",
   "execution_count": null,
   "id": "7390d42d",
   "metadata": {},
   "outputs": [],
   "source": []
  },
  {
   "cell_type": "code",
   "execution_count": null,
   "id": "aa1a4a72",
   "metadata": {},
   "outputs": [],
   "source": []
  },
  {
   "cell_type": "code",
   "execution_count": null,
   "id": "7b8b626b",
   "metadata": {},
   "outputs": [],
   "source": []
  },
  {
   "cell_type": "markdown",
   "id": "60967d6b",
   "metadata": {},
   "source": [
    "# checking outliers"
   ]
  },
  {
   "cell_type": "code",
   "execution_count": null,
   "id": "77c3b044",
   "metadata": {},
   "outputs": [],
   "source": [
    "crash['coordinates'] = list(zip(crash['latitude'], crash['longitude']))\n"
   ]
  },
  {
   "cell_type": "code",
   "execution_count": null,
   "id": "6acf21c9",
   "metadata": {},
   "outputs": [],
   "source": [
    "import numpy as np\n",
    "\n",
    "# Assuming 'df' is the name of your DataFrame with 'Lat' and 'Long' columns\n",
    "latitudes = np.array(crash['latitude'])\n",
    "longitudes = np.array(crash['longitude'])\n",
    "\n",
    "# Calculate the first and third quartiles (Q1 and Q3) of the latitudes and longitudes:\n",
    "lat_Q1, lat_Q3 = np.percentile(latitudes, [25, 75])\n",
    "long_Q1, long_Q3 = np.percentile(longitudes, [25, 75])\n",
    "\n",
    "# Calculate the IQR of the latitudes and longitudes:\n",
    "lat_IQR = lat_Q3 - lat_Q1\n",
    "long_IQR = long_Q3 - long_Q1\n",
    "\n",
    "# Define a threshold for outliers:\n",
    "lat_threshold = 1.5 * lat_IQR\n",
    "long_threshold = 1.5 * long_IQR\n",
    "\n",
    "# Find the indices of the outliers:\n",
    "lat_outliers_idx = np.where((latitudes < lat_Q1 - lat_threshold) | (latitudes > lat_Q3 + lat_threshold))\n",
    "long_outliers_idx = np.where((longitudes < long_Q1 - long_threshold) | (longitudes > long_Q3 + long_threshold))\n",
    "\n",
    "# Print the outlier coordinates and their indices:\n",
    "print(\"Latitude Outliers:\", latitudes[lat_outliers_idx])\n",
    "print(\"Latitude Outliers Indices:\", lat_outliers_idx[0])\n",
    "print(\"Longitude Outliers:\", longitudes[long_outliers_idx])\n",
    "print(\"Longitude Outliers Indices:\", long_outliers_idx[0])\n"
   ]
  },
  {
   "cell_type": "markdown",
   "id": "066f0e90",
   "metadata": {},
   "source": [
    "# these outliers are causing my map to be off"
   ]
  },
  {
   "cell_type": "code",
   "execution_count": null,
   "id": "9b4a6727",
   "metadata": {},
   "outputs": [],
   "source": [
    "from scipy import stats\n",
    "\n",
    "# Calculate the z-score for the GPS Longitude and GPS Latitude columns\n",
    "z_lon = np.abs(stats.zscore(crash['GPS Longitude']))\n",
    "z_lat = np.abs(stats.zscore(crash['GPS Latitude']))\n",
    "\n",
    "# Identify outliers by setting a z-score threshold\n",
    "z_thresh = 3\n",
    "outliers_lon = crash[z_lon > z_thresh]\n",
    "outliers_lat = crash[z_lat > z_thresh]\n",
    "\n",
    "# Print the outlier values\n",
    "print('Longitude outliers:')\n",
    "print(outliers_lon)\n",
    "print('Latitude outliers:')\n",
    "print(outliers_lat)\n"
   ]
  },
  {
   "cell_type": "code",
   "execution_count": null,
   "id": "6f98f3f8",
   "metadata": {},
   "outputs": [],
   "source": [
    "Longitude outliers:\n",
    "     GPS Latitude  GPS Longitude        Date    Time  \\\n",
    "69            0.0            0.0  05/23/2022  5:15PM   \n",
    "144           0.0            0.0  05/23/2022  5:15PM   \n",
    "\n",
    "                                          Location  \n",
    "69   COUNTY ROAD 2185 .5 MILES EAST OF MARIONVILLE  \n",
    "144  COUNTY ROAD 2185 .5 MILES EAST OF MARIONVILLE  \n",
    "Latitude outliers:\n",
    "     GPS Latitude  GPS Longitude        Date     Time  \\\n",
    "69            0.0        0.00000  05/23/2022   5:15PM   \n",
    "98            0.0      -93.84275  12/28/2022  10:45PM   \n",
    "144           0.0        0.00000  05/23/2022   5:15PM   \n",
    "\n",
    "                                          Location  \n",
    "69   COUNTY ROAD 2185 .5 MILES EAST OF MARIONVILLE  \n",
    "98                   MO 39 2 MILES NORTH OF MILLER  \n",
    "144  COUNTY ROAD 2185 .5 MILES EAST OF MARIONVILLE  "
   ]
  }
 ],
 "metadata": {
  "kernelspec": {
   "display_name": "Python 3 (ipykernel)",
   "language": "python",
   "name": "python3"
  },
  "language_info": {
   "codemirror_mode": {
    "name": "ipython",
    "version": 3
   },
   "file_extension": ".py",
   "mimetype": "text/x-python",
   "name": "python",
   "nbconvert_exporter": "python",
   "pygments_lexer": "ipython3",
   "version": "3.9.13"
  }
 },
 "nbformat": 4,
 "nbformat_minor": 5
}
