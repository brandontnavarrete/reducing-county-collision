{
 "cells": [
  {
   "cell_type": "markdown",
   "id": "f463d6e9",
   "metadata": {},
   "source": [
    "# dependencies"
   ]
  },
  {
   "cell_type": "code",
   "execution_count": 1,
   "id": "87310766",
   "metadata": {},
   "outputs": [
    {
     "name": "stdout",
     "output_type": "stream",
     "text": [
      "Requirement already satisfied: folium in /usr/local/anaconda3/lib/python3.9/site-packages (0.14.0)\r\n",
      "Requirement already satisfied: requests in /usr/local/anaconda3/lib/python3.9/site-packages (from folium) (2.28.1)\r\n",
      "Requirement already satisfied: branca>=0.6.0 in /usr/local/anaconda3/lib/python3.9/site-packages (from folium) (0.6.0)\r\n",
      "Requirement already satisfied: jinja2>=2.9 in /usr/local/anaconda3/lib/python3.9/site-packages (from folium) (2.11.3)\r\n",
      "Requirement already satisfied: numpy in /usr/local/anaconda3/lib/python3.9/site-packages (from folium) (1.23.5)\r\n",
      "Requirement already satisfied: MarkupSafe>=0.23 in /usr/local/anaconda3/lib/python3.9/site-packages (from jinja2>=2.9->folium) (2.0.1)\r\n",
      "Requirement already satisfied: certifi>=2017.4.17 in /usr/local/anaconda3/lib/python3.9/site-packages (from requests->folium) (2022.9.24)\r\n",
      "Requirement already satisfied: urllib3<1.27,>=1.21.1 in /usr/local/anaconda3/lib/python3.9/site-packages (from requests->folium) (1.26.11)\r\n",
      "Requirement already satisfied: idna<4,>=2.5 in /usr/local/anaconda3/lib/python3.9/site-packages (from requests->folium) (3.3)\r\n",
      "Requirement already satisfied: charset-normalizer<3,>=2 in /usr/local/anaconda3/lib/python3.9/site-packages (from requests->folium) (2.0.4)\r\n"
     ]
    }
   ],
   "source": [
    "!pip install folium"
   ]
  },
  {
   "cell_type": "markdown",
   "id": "2e02a133",
   "metadata": {},
   "source": [
    "# import"
   ]
  },
  {
   "cell_type": "code",
   "execution_count": 94,
   "id": "31bafea2",
   "metadata": {},
   "outputs": [],
   "source": [
    "import pandas as pd \n",
    "import numpy as np \n",
    "\n",
    "import folium"
   ]
  },
  {
   "cell_type": "code",
   "execution_count": 95,
   "id": "558bcd4d",
   "metadata": {},
   "outputs": [],
   "source": [
    "import seaborn as sns"
   ]
  },
  {
   "cell_type": "code",
   "execution_count": 96,
   "id": "0506bb5b",
   "metadata": {},
   "outputs": [],
   "source": [
    "crash = pd.read_csv('crash.csv')"
   ]
  },
  {
   "cell_type": "code",
   "execution_count": 97,
   "id": "c0e8e2f9",
   "metadata": {},
   "outputs": [],
   "source": [
    "# 'Troop','County','Incident#','Unnamed: 0','Investigated By' dropped because they were not helpful\n",
    "crash.drop(columns= ['Troop','County','Incident#','Unnamed: 0','Investigated By'],inplace=True)"
   ]
  },
  {
   "cell_type": "code",
   "execution_count": 98,
   "id": "214f563f",
   "metadata": {},
   "outputs": [],
   "source": [
    "crash.rename(columns={'GPS Latitude':'latitude','GPS Longitude':'longitude'},inplace = True)"
   ]
  },
  {
   "cell_type": "code",
   "execution_count": 6,
   "id": "06872047",
   "metadata": {},
   "outputs": [],
   "source": [
    "# drop rows with index 1 and 3\n",
    "# crash = crash.drop(index=[69, 144, 98, 43, 101, 116, 117, 118, 119])\n",
    "crash = crash.drop(index=[119,118,43])"
   ]
  },
  {
   "cell_type": "markdown",
   "id": "ec1ec063",
   "metadata": {},
   "source": [
    "# folium"
   ]
  },
  {
   "cell_type": "code",
   "execution_count": 7,
   "id": "08b9e40d",
   "metadata": {},
   "outputs": [],
   "source": [
    "maps = folium.Map(location=[crash['latitude'].mean(), crash['longitude'].mean()], zoom_start=10)\n"
   ]
  },
  {
   "cell_type": "code",
   "execution_count": 8,
   "id": "1f24f394",
   "metadata": {},
   "outputs": [],
   "source": [
    "for index, row in crash.iterrows():\n",
    "    folium.Marker(location=[row['latitude'], row['longitude']]).add_to(maps)\n"
   ]
  },
  {
   "cell_type": "code",
   "execution_count": 9,
   "id": "d70f6957",
   "metadata": {},
   "outputs": [],
   "source": [
    "maps.save('map.html')"
   ]
  },
  {
   "cell_type": "markdown",
   "id": "00ce9d0f",
   "metadata": {},
   "source": [
    "# folium"
   ]
  },
  {
   "cell_type": "code",
   "execution_count": 10,
   "id": "062f4dcc",
   "metadata": {
    "scrolled": true
   },
   "outputs": [
    {
     "data": {
      "text/html": [
       "\n",
       "        <iframe\n",
       "            width=\"700\"\n",
       "            height=\"600\"\n",
       "            src=\"map.html\"\n",
       "            frameborder=\"0\"\n",
       "            allowfullscreen\n",
       "            \n",
       "        ></iframe>\n",
       "        "
      ],
      "text/plain": [
       "<IPython.lib.display.IFrame at 0x7fba1f1072e0>"
      ]
     },
     "execution_count": 10,
     "metadata": {},
     "output_type": "execute_result"
    }
   ],
   "source": [
    "from IPython.display import IFrame\n",
    "\n",
    "IFrame(src='map.html', width=700, height=600)\n"
   ]
  },
  {
   "cell_type": "code",
   "execution_count": 11,
   "id": "a5057bbe",
   "metadata": {},
   "outputs": [],
   "source": [
    "from math import radians, sin, cos, sqrt, atan2\n",
    "\n",
    "def distance(lat1, lon1, lat2, lon2):\n",
    "    R = 6371  # radius of the Earth in kilometers\n",
    "\n",
    "    # convert decimal degrees to radians\n",
    "    lat1 = radians(lat1)\n",
    "    lon1 = radians(lon1)\n",
    "    lat2 = radians(lat2)\n",
    "    lon2 = radians(lon2)\n",
    "\n",
    "    # Haversine formula\n",
    "    dlat = lat2 - lat1\n",
    "    dlon = lon2 - lon1\n",
    "    a = sin(dlat / 2) ** 2 + cos(lat1) * cos(lat2) * sin(dlon / 2) ** 2\n",
    "    c = 2 * atan2(sqrt(a), sqrt(1 - a))\n",
    "    d = R * c\n",
    "\n",
    "    return d"
   ]
  },
  {
   "cell_type": "code",
   "execution_count": 12,
   "id": "a99f820f",
   "metadata": {},
   "outputs": [
    {
     "name": "stdout",
     "output_type": "stream",
     "text": [
      "Point (37.7763, -122.4245) is within 1 miles of the center point\n",
      "Point (37.7751, -122.4181) is within 1 miles of the center point\n",
      "Point (37.7702, -122.4124) is within 1 miles of the center point\n",
      "Point (37.7815, -122.4058) is outside 1 miles of the center point\n"
     ]
    }
   ],
   "source": [
    "# center point coordinates\n",
    "center_lat = 37.7749\n",
    "center_lon = -122.4194\n",
    "\n",
    "# list of other points with coordinates\n",
    "points = [\n",
    "    {'lat': 37.7763, 'lon': -122.4245},\n",
    "    {'lat': 37.7751, 'lon': -122.4181},\n",
    "    {'lat': 37.7702, 'lon': -122.4124},\n",
    "    {'lat': 37.7815, 'lon': -122.4058},\n",
    "]\n",
    "\n",
    "# radius in miles\n",
    "radius = 1\n",
    "\n",
    "# check if each point is within the radius\n",
    "for point in points:\n",
    "    d = distance(center_lat, center_lon, point['lat'], point['lon'])\n",
    "    if d <= radius:\n",
    "        print(f\"Point ({point['lat']}, {point['lon']}) is within {radius} miles of the center point\")\n",
    "    else:\n",
    "        print(f\"Point ({point['lat']}, {point['lon']}) is outside {radius} miles of the center point\")\n"
   ]
  },
  {
   "cell_type": "markdown",
   "id": "60ecb5aa",
   "metadata": {},
   "source": [
    "# Date Time"
   ]
  },
  {
   "cell_type": "code",
   "execution_count": 99,
   "id": "20627bf1",
   "metadata": {},
   "outputs": [],
   "source": [
    "def combine_date_time(df):\n",
    "    # Convert 'Date' and 'Time' columns to datetime format\n",
    "    df['Date'] = pd.to_datetime(df['Date'])\n",
    "    df['Time'] = pd.to_datetime(df['Time'], format='%I:%M%p').dt.time\n",
    "    df['Hour'] = pd.to_datetime(df['Time'], format='%H:%M:%S').dt.hour\n",
    "\n",
    "    # Combine 'Date' and 'Time' columns into new 'datetimes' column\n",
    "    df['datetimes'] = pd.to_datetime(df['Date'].astype(str) + ' ' + df['Time'].astype(str))\n",
    "\n",
    "    return df\n"
   ]
  },
  {
   "cell_type": "code",
   "execution_count": 100,
   "id": "b3d595ae",
   "metadata": {},
   "outputs": [],
   "source": [
    "crash = combine_date_time(crash)"
   ]
  },
  {
   "cell_type": "code",
   "execution_count": 101,
   "id": "790a38fd",
   "metadata": {
    "scrolled": true
   },
   "outputs": [
    {
     "data": {
      "text/html": [
       "<div>\n",
       "<style scoped>\n",
       "    .dataframe tbody tr th:only-of-type {\n",
       "        vertical-align: middle;\n",
       "    }\n",
       "\n",
       "    .dataframe tbody tr th {\n",
       "        vertical-align: top;\n",
       "    }\n",
       "\n",
       "    .dataframe thead th {\n",
       "        text-align: right;\n",
       "    }\n",
       "</style>\n",
       "<table border=\"1\" class=\"dataframe\">\n",
       "  <thead>\n",
       "    <tr style=\"text-align: right;\">\n",
       "      <th></th>\n",
       "      <th>latitude</th>\n",
       "      <th>longitude</th>\n",
       "      <th>Date</th>\n",
       "      <th>Time</th>\n",
       "      <th>Location</th>\n",
       "      <th>Hour</th>\n",
       "      <th>datetimes</th>\n",
       "    </tr>\n",
       "  </thead>\n",
       "  <tbody>\n",
       "    <tr>\n",
       "      <th>33</th>\n",
       "      <td>37.131805</td>\n",
       "      <td>-93.734666</td>\n",
       "      <td>2022-11-05</td>\n",
       "      <td>23:50:00</td>\n",
       "      <td>I 44 5 MILES EAST OF MT VERNON</td>\n",
       "      <td>23</td>\n",
       "      <td>2022-11-05 23:50:00</td>\n",
       "    </tr>\n",
       "    <tr>\n",
       "      <th>81</th>\n",
       "      <td>37.188241</td>\n",
       "      <td>-93.760039</td>\n",
       "      <td>2023-04-10</td>\n",
       "      <td>23:50:00</td>\n",
       "      <td>MO 96 8.5 MILES NORTHEAST OF MOUNT VERNON</td>\n",
       "      <td>23</td>\n",
       "      <td>2023-04-10 23:50:00</td>\n",
       "    </tr>\n",
       "    <tr>\n",
       "      <th>109</th>\n",
       "      <td>37.131805</td>\n",
       "      <td>-93.734666</td>\n",
       "      <td>2022-11-05</td>\n",
       "      <td>23:50:00</td>\n",
       "      <td>I 44 5 MILES EAST OF MT VERNON</td>\n",
       "      <td>23</td>\n",
       "      <td>2022-11-05 23:50:00</td>\n",
       "    </tr>\n",
       "    <tr>\n",
       "      <th>79</th>\n",
       "      <td>37.139500</td>\n",
       "      <td>-93.984472</td>\n",
       "      <td>2023-04-21</td>\n",
       "      <td>23:45:00</td>\n",
       "      <td>COUNTY ROAD 1040 2 MILES NORTH OF STOTTS CITY</td>\n",
       "      <td>23</td>\n",
       "      <td>2023-04-21 23:45:00</td>\n",
       "    </tr>\n",
       "    <tr>\n",
       "      <th>36</th>\n",
       "      <td>37.086333</td>\n",
       "      <td>-93.851225</td>\n",
       "      <td>2022-10-10</td>\n",
       "      <td>23:07:00</td>\n",
       "      <td>I-44 1 MILE WEST OF MOUNT VERNON</td>\n",
       "      <td>23</td>\n",
       "      <td>2022-10-10 23:07:00</td>\n",
       "    </tr>\n",
       "    <tr>\n",
       "      <th>...</th>\n",
       "      <td>...</td>\n",
       "      <td>...</td>\n",
       "      <td>...</td>\n",
       "      <td>...</td>\n",
       "      <td>...</td>\n",
       "      <td>...</td>\n",
       "      <td>...</td>\n",
       "    </tr>\n",
       "    <tr>\n",
       "      <th>38</th>\n",
       "      <td>36.984322</td>\n",
       "      <td>-93.749750</td>\n",
       "      <td>2022-09-26</td>\n",
       "      <td>02:20:00</td>\n",
       "      <td>LAWRENCE 2200 1 MILE WEST OF AURORA</td>\n",
       "      <td>2</td>\n",
       "      <td>2022-09-26 02:20:00</td>\n",
       "    </tr>\n",
       "    <tr>\n",
       "      <th>54</th>\n",
       "      <td>37.218000</td>\n",
       "      <td>-93.785722</td>\n",
       "      <td>2022-07-30</td>\n",
       "      <td>02:00:00</td>\n",
       "      <td>LAWRENCE 2040 THREE MILES EAST OF MILLER</td>\n",
       "      <td>2</td>\n",
       "      <td>2022-07-30 02:00:00</td>\n",
       "    </tr>\n",
       "    <tr>\n",
       "      <th>115</th>\n",
       "      <td>37.089345</td>\n",
       "      <td>-93.810720</td>\n",
       "      <td>2022-09-16</td>\n",
       "      <td>01:40:00</td>\n",
       "      <td>I44 IN MOUNT VERNON</td>\n",
       "      <td>1</td>\n",
       "      <td>2022-09-16 01:40:00</td>\n",
       "    </tr>\n",
       "    <tr>\n",
       "      <th>80</th>\n",
       "      <td>36.957890</td>\n",
       "      <td>-93.996246</td>\n",
       "      <td>2023-04-19</td>\n",
       "      <td>01:25:00</td>\n",
       "      <td>LAWRENCE COUNTY ROAD 1036 .25 MILES EAST OF PI...</td>\n",
       "      <td>1</td>\n",
       "      <td>2023-04-19 01:25:00</td>\n",
       "    </tr>\n",
       "    <tr>\n",
       "      <th>150</th>\n",
       "      <td>37.024778</td>\n",
       "      <td>-93.641502</td>\n",
       "      <td>2022-05-11</td>\n",
       "      <td>01:02:00</td>\n",
       "      <td>LAWRENCE 2170 1 MILE NORTH OF MARIONVILLE</td>\n",
       "      <td>1</td>\n",
       "      <td>2022-05-11 01:02:00</td>\n",
       "    </tr>\n",
       "  </tbody>\n",
       "</table>\n",
       "<p>152 rows × 7 columns</p>\n",
       "</div>"
      ],
      "text/plain": [
       "      latitude  longitude       Date      Time  \\\n",
       "33   37.131805 -93.734666 2022-11-05  23:50:00   \n",
       "81   37.188241 -93.760039 2023-04-10  23:50:00   \n",
       "109  37.131805 -93.734666 2022-11-05  23:50:00   \n",
       "79   37.139500 -93.984472 2023-04-21  23:45:00   \n",
       "36   37.086333 -93.851225 2022-10-10  23:07:00   \n",
       "..         ...        ...        ...       ...   \n",
       "38   36.984322 -93.749750 2022-09-26  02:20:00   \n",
       "54   37.218000 -93.785722 2022-07-30  02:00:00   \n",
       "115  37.089345 -93.810720 2022-09-16  01:40:00   \n",
       "80   36.957890 -93.996246 2023-04-19  01:25:00   \n",
       "150  37.024778 -93.641502 2022-05-11  01:02:00   \n",
       "\n",
       "                                              Location  Hour  \\\n",
       "33                      I 44 5 MILES EAST OF MT VERNON    23   \n",
       "81           MO 96 8.5 MILES NORTHEAST OF MOUNT VERNON    23   \n",
       "109                     I 44 5 MILES EAST OF MT VERNON    23   \n",
       "79       COUNTY ROAD 1040 2 MILES NORTH OF STOTTS CITY    23   \n",
       "36                    I-44 1 MILE WEST OF MOUNT VERNON    23   \n",
       "..                                                 ...   ...   \n",
       "38                 LAWRENCE 2200 1 MILE WEST OF AURORA     2   \n",
       "54            LAWRENCE 2040 THREE MILES EAST OF MILLER     2   \n",
       "115                                I44 IN MOUNT VERNON     1   \n",
       "80   LAWRENCE COUNTY ROAD 1036 .25 MILES EAST OF PI...     1   \n",
       "150          LAWRENCE 2170 1 MILE NORTH OF MARIONVILLE     1   \n",
       "\n",
       "              datetimes  \n",
       "33  2022-11-05 23:50:00  \n",
       "81  2023-04-10 23:50:00  \n",
       "109 2022-11-05 23:50:00  \n",
       "79  2023-04-21 23:45:00  \n",
       "36  2022-10-10 23:07:00  \n",
       "..                  ...  \n",
       "38  2022-09-26 02:20:00  \n",
       "54  2022-07-30 02:00:00  \n",
       "115 2022-09-16 01:40:00  \n",
       "80  2023-04-19 01:25:00  \n",
       "150 2022-05-11 01:02:00  \n",
       "\n",
       "[152 rows x 7 columns]"
      ]
     },
     "execution_count": 101,
     "metadata": {},
     "output_type": "execute_result"
    }
   ],
   "source": [
    "crash.sort_values('Time', ascending= False)"
   ]
  },
  {
   "cell_type": "code",
   "execution_count": 16,
   "id": "fcd5a41b",
   "metadata": {
    "scrolled": true
   },
   "outputs": [
    {
     "data": {
      "text/plain": [
       "Time\n",
       "17:15:00    8\n",
       "16:45:00    7\n",
       "02:34:00    5\n",
       "13:23:00    5\n",
       "12:10:00    5\n",
       "13:03:00    3\n",
       "08:27:00    3\n",
       "23:07:00    3\n",
       "22:45:00    3\n",
       "16:35:00    3\n",
       "dtype: int64"
      ]
     },
     "execution_count": 16,
     "metadata": {},
     "output_type": "execute_result"
    }
   ],
   "source": [
    "crash.value_counts('Time').head(10)"
   ]
  },
  {
   "cell_type": "code",
   "execution_count": 17,
   "id": "4da8c077",
   "metadata": {
    "scrolled": false
   },
   "outputs": [
    {
     "data": {
      "image/png": "[encoded data removed]",
      "text/plain": [
       "<Figure size 640x480 with 1 Axes>"
      ]
     },
     "metadata": {},
     "output_type": "display_data"
    }
   ],
   "source": [
    "import pandas as pd\n",
    "import matplotlib.pyplot as plt\n",
    "\n",
    "# Assuming 'crash' is a DataFrame containing the 'Time' column\n",
    "time_counts = crash['Time'].value_counts().head(10)\n",
    "\n",
    "# Create horizontal bar plot of value counts\n",
    "time_counts.plot(kind='barh')\n",
    "\n",
    "# Invert y-axis to show most common value on top\n",
    "plt.gca().invert_yaxis()\n",
    "\n",
    "# Set plot title and axis labels\n",
    "plt.title('Number of crashes by time of day')\n",
    "plt.xlabel('Number of crashes')\n",
    "plt.ylabel('Time of day')\n",
    "\n",
    "# Display the plot\n",
    "plt.show()\n"
   ]
  },
  {
   "cell_type": "code",
   "execution_count": 22,
   "id": "7221a719",
   "metadata": {},
   "outputs": [
    {
     "data": {
      "image/png": "[encoded data removed]",
      "text/plain": [
       "<Figure size 640x480 with 1 Axes>"
      ]
     },
     "metadata": {},
     "output_type": "display_data"
    }
   ],
   "source": [
    "# Assuming 'crash' is a DataFrame containing the 'Time' column\n",
    "time_counts = crash['Hour'].value_counts().head(10)\n",
    "\n",
    "# Create horizontal bar plot of value counts\n",
    "time_counts.plot(kind='barh')\n",
    "\n",
    "# Invert y-axis to show most common value on top\n",
    "plt.gca().invert_yaxis()\n",
    "\n",
    "# Set plot title and axis labels\n",
    "plt.title('Number of crashes by time of day')\n",
    "plt.xlabel('Number of crashes')\n",
    "plt.ylabel('Time of day')\n",
    "\n",
    "# Display the plot\n",
    "plt.show()\n"
   ]
  },
  {
   "cell_type": "code",
   "execution_count": null,
   "id": "6b50be02",
   "metadata": {},
   "outputs": [],
   "source": []
  },
  {
   "cell_type": "markdown",
   "id": "b96fbbdb",
   "metadata": {},
   "source": [
    "# tableau crash csv"
   ]
  },
  {
   "cell_type": "code",
   "execution_count": 24,
   "id": "ca10db6e",
   "metadata": {},
   "outputs": [],
   "source": [
    "crash.to_csv('crashTab.csv')"
   ]
  },
  {
   "cell_type": "markdown",
   "id": "2e19ec59",
   "metadata": {},
   "source": [
    "# injury csv"
   ]
  },
  {
   "cell_type": "code",
   "execution_count": 103,
   "id": "b5533c9b",
   "metadata": {},
   "outputs": [],
   "source": [
    "df = pd.read_csv('injury.csv',index_col= 0)"
   ]
  },
  {
   "cell_type": "code",
   "execution_count": 104,
   "id": "ccb15d8d",
   "metadata": {},
   "outputs": [],
   "source": [
    "df.drop(columns= 'Name',inplace= True)"
   ]
  },
  {
   "cell_type": "code",
   "execution_count": 37,
   "id": "0d1ee6dc",
   "metadata": {},
   "outputs": [
    {
     "data": {
      "text/html": [
       "<div>\n",
       "<style scoped>\n",
       "    .dataframe tbody tr th:only-of-type {\n",
       "        vertical-align: middle;\n",
       "    }\n",
       "\n",
       "    .dataframe tbody tr th {\n",
       "        vertical-align: top;\n",
       "    }\n",
       "\n",
       "    .dataframe thead th {\n",
       "        text-align: right;\n",
       "    }\n",
       "</style>\n",
       "<table border=\"1\" class=\"dataframe\">\n",
       "  <thead>\n",
       "    <tr style=\"text-align: right;\">\n",
       "      <th>Safety Device</th>\n",
       "      <th>NO</th>\n",
       "      <th>UNKNOWN</th>\n",
       "      <th>YES</th>\n",
       "    </tr>\n",
       "    <tr>\n",
       "      <th>Gender</th>\n",
       "      <th></th>\n",
       "      <th></th>\n",
       "      <th></th>\n",
       "    </tr>\n",
       "  </thead>\n",
       "  <tbody>\n",
       "    <tr>\n",
       "      <th>FEMALE</th>\n",
       "      <td>19</td>\n",
       "      <td>1</td>\n",
       "      <td>69</td>\n",
       "    </tr>\n",
       "    <tr>\n",
       "      <th>MALE</th>\n",
       "      <td>41</td>\n",
       "      <td>9</td>\n",
       "      <td>104</td>\n",
       "    </tr>\n",
       "  </tbody>\n",
       "</table>\n",
       "</div>"
      ],
      "text/plain": [
       "Safety Device  NO  UNKNOWN  YES\n",
       "Gender                         \n",
       "FEMALE         19        1   69\n",
       "MALE           41        9  104"
      ]
     },
     "execution_count": 37,
     "metadata": {},
     "output_type": "execute_result"
    }
   ],
   "source": [
    "pd.crosstab(df['Gender'], df['Safety Device'])\n"
   ]
  },
  {
   "cell_type": "markdown",
   "id": "97b75e29",
   "metadata": {},
   "source": [
    "<div class=\"alert alert-block alert-info\">\n",
    "<b>Gender and Safety Devices:</b>\n",
    "\n",
    "*Significantly more male injuries in every category here\n",
    "\n",
    "</div>\n"
   ]
  },
  {
   "cell_type": "code",
   "execution_count": 42,
   "id": "fbc5fd9c",
   "metadata": {},
   "outputs": [
    {
     "data": {
      "image/png": "[encoded data removed]",
      "text/plain": [
       "<Figure size 640x480 with 1 Axes>"
      ]
     },
     "metadata": {},
     "output_type": "display_data"
    }
   ],
   "source": [
    "# Assuming 'crash' is a DataFrame containing the 'Time' column\n",
    "age_counts = df['Age'].value_counts().head(10)\n",
    "\n",
    "# Create horizontal bar plot of value counts\n",
    "age_counts.plot(kind='barh')\n",
    "\n",
    "# Invert y-axis to show most common value on top\n",
    "plt.gca().invert_yaxis()\n",
    "\n",
    "# Set plot title and axis labels\n",
    "plt.title('Number of crashes by age')\n",
    "plt.xlabel('Number of crashes')\n",
    "plt.ylabel('Age group')\n",
    "\n",
    "# Display the plot\n",
    "plt.show()\n"
   ]
  },
  {
   "cell_type": "markdown",
   "id": "2f90ff19",
   "metadata": {},
   "source": [
    "# vehicle df"
   ]
  },
  {
   "cell_type": "code",
   "execution_count": 83,
   "id": "7390d42d",
   "metadata": {},
   "outputs": [],
   "source": [
    "df = pd.read_csv('vehicle.csv',index_col= 0 )"
   ]
  },
  {
   "cell_type": "code",
   "execution_count": 84,
   "id": "aa1a4a72",
   "metadata": {},
   "outputs": [],
   "source": [
    "df.drop(columns= ['Driver Name'],inplace= True)"
   ]
  },
  {
   "cell_type": "code",
   "execution_count": 85,
   "id": "d76ad465",
   "metadata": {},
   "outputs": [
    {
     "data": {
      "text/html": [
       "<div>\n",
       "<style scoped>\n",
       "    .dataframe tbody tr th:only-of-type {\n",
       "        vertical-align: middle;\n",
       "    }\n",
       "\n",
       "    .dataframe tbody tr th {\n",
       "        vertical-align: top;\n",
       "    }\n",
       "\n",
       "    .dataframe thead th {\n",
       "        text-align: right;\n",
       "    }\n",
       "</style>\n",
       "<table border=\"1\" class=\"dataframe\">\n",
       "  <thead>\n",
       "    <tr style=\"text-align: right;\">\n",
       "      <th></th>\n",
       "      <th>Veh. #</th>\n",
       "      <th>Vehicle Description</th>\n",
       "      <th>Damage</th>\n",
       "      <th>Disposition</th>\n",
       "      <th>Driver Gender</th>\n",
       "      <th>Driver Age</th>\n",
       "      <th>Safety Device</th>\n",
       "      <th>Driver City/State</th>\n",
       "      <th>Driver Insurance</th>\n",
       "      <th>Vehicle Direction</th>\n",
       "    </tr>\n",
       "  </thead>\n",
       "  <tbody>\n",
       "    <tr>\n",
       "      <th>0</th>\n",
       "      <td>1</td>\n",
       "      <td>2019 FREIGHTLINER CASCADIA</td>\n",
       "      <td>TOTAL</td>\n",
       "      <td>M AND M WRECKER</td>\n",
       "      <td>MALE</td>\n",
       "      <td>39</td>\n",
       "      <td>YES</td>\n",
       "      <td>DENVER, CO</td>\n",
       "      <td>ACE AMERCIAN INSURANCE</td>\n",
       "      <td>WESTBOUND</td>\n",
       "    </tr>\n",
       "  </tbody>\n",
       "</table>\n",
       "</div>"
      ],
      "text/plain": [
       "   Veh. #         Vehicle Description Damage      Disposition Driver Gender  \\\n",
       "0       1  2019 FREIGHTLINER CASCADIA  TOTAL  M AND M WRECKER          MALE   \n",
       "\n",
       "  Driver Age Safety Device Driver City/State        Driver Insurance  \\\n",
       "0         39           YES        DENVER, CO  ACE AMERCIAN INSURANCE   \n",
       "\n",
       "  Vehicle Direction  \n",
       "0         WESTBOUND  "
      ]
     },
     "execution_count": 85,
     "metadata": {},
     "output_type": "execute_result"
    }
   ],
   "source": [
    "df.head(1)"
   ]
  },
  {
   "cell_type": "code",
   "execution_count": 86,
   "id": "6f98f3f8",
   "metadata": {},
   "outputs": [
    {
     "ename": "SyntaxError",
     "evalue": "invalid syntax (3644259944.py, line 1)",
     "output_type": "error",
     "traceback": [
      "\u001b[0;36m  File \u001b[0;32m\"/var/folders/d0/5dr5q0n145vcn3_m9dxy1xq80000gn/T/ipykernel_14616/3644259944.py\"\u001b[0;36m, line \u001b[0;32m1\u001b[0m\n\u001b[0;31m    Longitude outliers:\u001b[0m\n\u001b[0m              ^\u001b[0m\n\u001b[0;31mSyntaxError\u001b[0m\u001b[0;31m:\u001b[0m invalid syntax\n"
     ]
    }
   ],
   "source": [
    "'''Longitude outliers:\n",
    "     GPS Latitude  GPS Longitude        Date    Time  \\\n",
    "69            0.0            0.0  05/23/2022  5:15PM   \n",
    "144           0.0            0.0  05/23/2022  5:15PM   \n",
    "\n",
    "                                          Location  \n",
    "69   COUNTY ROAD 2185 .5 MILES EAST OF MARIONVILLE  \n",
    "144  COUNTY ROAD 2185 .5 MILES EAST OF MARIONVILLE  \n",
    "Latitude outliers:\n",
    "     GPS Latitude  GPS Longitude        Date     Time  \\\n",
    "69            0.0        0.00000  05/23/2022   5:15PM   \n",
    "98            0.0      -93.84275  12/28/2022  10:45PM   \n",
    "144           0.0        0.00000  05/23/2022   5:15PM   \n",
    "\n",
    "                                          Location  \n",
    "69   COUNTY ROAD 2185 .5 MILES EAST OF MARIONVILLE  \n",
    "98                   MO 39 2 MILES NORTH OF MILLER  \n",
    "144  COUNTY ROAD 2185 .5 MILES EAST OF MARIONVILLE  '''"
   ]
  },
  {
   "cell_type": "markdown",
   "id": "6f7e6457",
   "metadata": {},
   "source": [
    "### Damage Type"
   ]
  },
  {
   "cell_type": "code",
   "execution_count": 87,
   "id": "7b8b626b",
   "metadata": {},
   "outputs": [
    {
     "data": {
      "text/plain": [
       "<AxesSubplot:xlabel='Damage', ylabel='count'>"
      ]
     },
     "execution_count": 87,
     "metadata": {},
     "output_type": "execute_result"
    },
    {
     "data": {
      "image/png": "[encoded data removed]",
      "text/plain": [
       "<Figure size 640x480 with 1 Axes>"
      ]
     },
     "metadata": {},
     "output_type": "display_data"
    }
   ],
   "source": [
    "sns.countplot(data= df, x = \"Damage\" )"
   ]
  },
  {
   "cell_type": "markdown",
   "id": "27144852",
   "metadata": {},
   "source": [
    "### Vehicle Type"
   ]
  },
  {
   "cell_type": "code",
   "execution_count": 88,
   "id": "22c2c87d",
   "metadata": {},
   "outputs": [
    {
     "data": {
      "text/plain": [
       "0    2019 FREIGHTLINER CASCADIA\n",
       "1    2023 FREIGHTLINER CASCADIA\n",
       "2            2020 SUBURU ASCENT\n",
       "0    2019 FREIGHTLINER CASCADIA\n",
       "1    2023 FREIGHTLINER CASCADIA\n",
       "                ...            \n",
       "0       2020 CHEVROLET TRAVERSE\n",
       "0       2020 CHEVROLET TRAVERSE\n",
       "0              2004 BUICK REGAL\n",
       "0         2007 CHEVROLET PICKUP\n",
       "1               2003 FORD FOCUS\n",
       "Name: Vehicle Description, Length: 234, dtype: object"
      ]
     },
     "execution_count": 88,
     "metadata": {},
     "output_type": "execute_result"
    }
   ],
   "source": [
    "df['Vehicle Description']"
   ]
  },
  {
   "cell_type": "code",
   "execution_count": 89,
   "id": "8323f2ff",
   "metadata": {},
   "outputs": [],
   "source": [
    "df['Year'] = df['Vehicle Description'].apply(lambda x: x.split(' ')[0])\n",
    "df['Make'] = df['Vehicle Description'].apply(lambda x: x.split(' ')[1])\n",
    "df['Model'] = df['Vehicle Description'].apply(lambda x: x.split(' ')[2] if len(x.split(' ')) >= 3 else '')\n"
   ]
  },
  {
   "cell_type": "code",
   "execution_count": 90,
   "id": "5072b0eb",
   "metadata": {
    "scrolled": true
   },
   "outputs": [],
   "source": [
    "df.drop(columns= ['Disposition'],inplace= True)"
   ]
  },
  {
   "cell_type": "code",
   "execution_count": 91,
   "id": "eebe44d0",
   "metadata": {},
   "outputs": [
    {
     "data": {
      "image/png": "[encoded data removed]",
      "text/plain": [
       "<Figure size 640x480 with 1 Axes>"
      ]
     },
     "metadata": {},
     "output_type": "display_data"
    }
   ],
   "source": [
    "# Assuming 'crash' is a DataFrame containing the 'Time' column\n",
    "vehdes = df['Make'].value_counts().head(10)\n",
    "\n",
    "# Create horizontal bar plot of value counts\n",
    "vehdes.plot(kind='barh')\n",
    "\n",
    "# Invert y-axis to show most common value on top\n",
    "plt.gca().invert_yaxis()\n",
    "\n",
    "# Set plot title and axis labels\n",
    "plt.title('Number of crashes by age')\n",
    "plt.xlabel('Number of crashes')\n",
    "plt.ylabel('Age group')\n",
    "\n",
    "# Display the plot\n",
    "plt.show()\n"
   ]
  },
  {
   "cell_type": "code",
   "execution_count": 92,
   "id": "d5627e86",
   "metadata": {},
   "outputs": [
    {
     "data": {
      "image/png": "[encoded data removed]",
      "text/plain": [
       "<Figure size 640x480 with 1 Axes>"
      ]
     },
     "metadata": {},
     "output_type": "display_data"
    }
   ],
   "source": [
    "# Assuming 'crash' is a DataFrame containing the 'Time' column\n",
    "vehdes = df['Model'].value_counts().head(10)\n",
    "\n",
    "# Create horizontal bar plot of value counts\n",
    "vehdes.plot(kind='barh')\n",
    "\n",
    "# Invert y-axis to show most common value on top\n",
    "plt.gca().invert_yaxis()\n",
    "\n",
    "# Set plot title and axis labels\n",
    "plt.title('Number of crashes by age')\n",
    "plt.xlabel('Number of crashes')\n",
    "plt.ylabel('Age group')\n",
    "\n",
    "# Display the plot\n",
    "plt.show()"
   ]
  },
  {
   "cell_type": "code",
   "execution_count": 93,
   "id": "af750e50",
   "metadata": {},
   "outputs": [],
   "source": [
    "df.to_csv('vehicleTab.csv')"
   ]
  },
  {
   "cell_type": "markdown",
   "id": "ead9968e",
   "metadata": {},
   "source": [
    "# combining crash and injury"
   ]
  },
  {
   "cell_type": "code",
   "execution_count": 114,
   "id": "dac3179d",
   "metadata": {},
   "outputs": [
    {
     "data": {
      "text/html": [
       "<div>\n",
       "<style scoped>\n",
       "    .dataframe tbody tr th:only-of-type {\n",
       "        vertical-align: middle;\n",
       "    }\n",
       "\n",
       "    .dataframe tbody tr th {\n",
       "        vertical-align: top;\n",
       "    }\n",
       "\n",
       "    .dataframe thead th {\n",
       "        text-align: right;\n",
       "    }\n",
       "</style>\n",
       "<table border=\"1\" class=\"dataframe\">\n",
       "  <thead>\n",
       "    <tr style=\"text-align: right;\">\n",
       "      <th></th>\n",
       "      <th>latitude</th>\n",
       "      <th>longitude</th>\n",
       "      <th>Date</th>\n",
       "      <th>Time</th>\n",
       "      <th>Location</th>\n",
       "      <th>Hour</th>\n",
       "      <th>datetimes</th>\n",
       "      <th>Fatalities</th>\n",
       "    </tr>\n",
       "  </thead>\n",
       "  <tbody>\n",
       "    <tr>\n",
       "      <th>0</th>\n",
       "      <td>37.078278</td>\n",
       "      <td>-93.877861</td>\n",
       "      <td>2023-04-27</td>\n",
       "      <td>17:15:00</td>\n",
       "      <td>I-44 WESTBOUND AT THE 42.2 MM, 3 MILES WEST OF...</td>\n",
       "      <td>17</td>\n",
       "      <td>2023-04-27 17:15:00</td>\n",
       "      <td>True</td>\n",
       "    </tr>\n",
       "    <tr>\n",
       "      <th>1</th>\n",
       "      <td>37.078278</td>\n",
       "      <td>-93.877861</td>\n",
       "      <td>2023-04-27</td>\n",
       "      <td>17:15:00</td>\n",
       "      <td>I-44 WESTBOUND AT THE 42.2 MM, 3 MILES WEST OF...</td>\n",
       "      <td>17</td>\n",
       "      <td>2023-04-27 17:15:00</td>\n",
       "      <td>True</td>\n",
       "    </tr>\n",
       "    <tr>\n",
       "      <th>2</th>\n",
       "      <td>37.086639</td>\n",
       "      <td>-93.847805</td>\n",
       "      <td>2023-04-26</td>\n",
       "      <td>16:45:00</td>\n",
       "      <td>HWY H 1/2 MILE SOUTH OF MOUNT VERNON</td>\n",
       "      <td>16</td>\n",
       "      <td>2023-04-26 16:45:00</td>\n",
       "      <td>True</td>\n",
       "    </tr>\n",
       "    <tr>\n",
       "      <th>3</th>\n",
       "      <td>37.023417</td>\n",
       "      <td>-93.969500</td>\n",
       "      <td>2023-04-22</td>\n",
       "      <td>02:50:00</td>\n",
       "      <td>COUNTY ROAD 1050 THREE MILES NORTH OF PIERCE CITY</td>\n",
       "      <td>2</td>\n",
       "      <td>2023-04-22 02:50:00</td>\n",
       "      <td>True</td>\n",
       "    </tr>\n",
       "    <tr>\n",
       "      <th>4</th>\n",
       "      <td>36.942694</td>\n",
       "      <td>-93.927277</td>\n",
       "      <td>2023-04-19</td>\n",
       "      <td>14:40:00</td>\n",
       "      <td>MO37 ONE MILE NORTH OF PIERCE CITY, MO</td>\n",
       "      <td>14</td>\n",
       "      <td>2023-04-19 14:40:00</td>\n",
       "      <td>True</td>\n",
       "    </tr>\n",
       "    <tr>\n",
       "      <th>...</th>\n",
       "      <td>...</td>\n",
       "      <td>...</td>\n",
       "      <td>...</td>\n",
       "      <td>...</td>\n",
       "      <td>...</td>\n",
       "      <td>...</td>\n",
       "      <td>...</td>\n",
       "      <td>...</td>\n",
       "    </tr>\n",
       "    <tr>\n",
       "      <th>147</th>\n",
       "      <td>37.074917</td>\n",
       "      <td>-93.965138</td>\n",
       "      <td>2022-05-19</td>\n",
       "      <td>08:27:00</td>\n",
       "      <td>I44 7 MILES WEST OF MOUNT VERNON</td>\n",
       "      <td>8</td>\n",
       "      <td>2022-05-19 08:27:00</td>\n",
       "      <td>True</td>\n",
       "    </tr>\n",
       "    <tr>\n",
       "      <th>148</th>\n",
       "      <td>37.075611</td>\n",
       "      <td>-93.975027</td>\n",
       "      <td>2022-05-17</td>\n",
       "      <td>02:34:00</td>\n",
       "      <td>EASTBOUND I44, 1 MILE WEST OF STOTTS CITY</td>\n",
       "      <td>2</td>\n",
       "      <td>2022-05-17 02:34:00</td>\n",
       "      <td>True</td>\n",
       "    </tr>\n",
       "    <tr>\n",
       "      <th>149</th>\n",
       "      <td>37.075611</td>\n",
       "      <td>-93.975027</td>\n",
       "      <td>2022-05-17</td>\n",
       "      <td>02:34:00</td>\n",
       "      <td>EASTBOUND I44, 1 MILE WEST OF STOTTS CITY</td>\n",
       "      <td>2</td>\n",
       "      <td>2022-05-17 02:34:00</td>\n",
       "      <td>True</td>\n",
       "    </tr>\n",
       "    <tr>\n",
       "      <th>150</th>\n",
       "      <td>37.024778</td>\n",
       "      <td>-93.641502</td>\n",
       "      <td>2022-05-11</td>\n",
       "      <td>01:02:00</td>\n",
       "      <td>LAWRENCE 2170 1 MILE NORTH OF MARIONVILLE</td>\n",
       "      <td>1</td>\n",
       "      <td>2022-05-11 01:02:00</td>\n",
       "      <td>True</td>\n",
       "    </tr>\n",
       "    <tr>\n",
       "      <th>151</th>\n",
       "      <td>37.060333</td>\n",
       "      <td>-93.627583</td>\n",
       "      <td>2022-05-10</td>\n",
       "      <td>16:35:00</td>\n",
       "      <td>ROUTE T 3 MILES NORTH OF MARIONVILLE</td>\n",
       "      <td>16</td>\n",
       "      <td>2022-05-10 16:35:00</td>\n",
       "      <td>True</td>\n",
       "    </tr>\n",
       "  </tbody>\n",
       "</table>\n",
       "<p>152 rows × 8 columns</p>\n",
       "</div>"
      ],
      "text/plain": [
       "      latitude  longitude       Date      Time  \\\n",
       "0    37.078278 -93.877861 2023-04-27  17:15:00   \n",
       "1    37.078278 -93.877861 2023-04-27  17:15:00   \n",
       "2    37.086639 -93.847805 2023-04-26  16:45:00   \n",
       "3    37.023417 -93.969500 2023-04-22  02:50:00   \n",
       "4    36.942694 -93.927277 2023-04-19  14:40:00   \n",
       "..         ...        ...        ...       ...   \n",
       "147  37.074917 -93.965138 2022-05-19  08:27:00   \n",
       "148  37.075611 -93.975027 2022-05-17  02:34:00   \n",
       "149  37.075611 -93.975027 2022-05-17  02:34:00   \n",
       "150  37.024778 -93.641502 2022-05-11  01:02:00   \n",
       "151  37.060333 -93.627583 2022-05-10  16:35:00   \n",
       "\n",
       "                                              Location  Hour  \\\n",
       "0    I-44 WESTBOUND AT THE 42.2 MM, 3 MILES WEST OF...    17   \n",
       "1    I-44 WESTBOUND AT THE 42.2 MM, 3 MILES WEST OF...    17   \n",
       "2                 HWY H 1/2 MILE SOUTH OF MOUNT VERNON    16   \n",
       "3    COUNTY ROAD 1050 THREE MILES NORTH OF PIERCE CITY     2   \n",
       "4               MO37 ONE MILE NORTH OF PIERCE CITY, MO    14   \n",
       "..                                                 ...   ...   \n",
       "147                   I44 7 MILES WEST OF MOUNT VERNON     8   \n",
       "148          EASTBOUND I44, 1 MILE WEST OF STOTTS CITY     2   \n",
       "149          EASTBOUND I44, 1 MILE WEST OF STOTTS CITY     2   \n",
       "150          LAWRENCE 2170 1 MILE NORTH OF MARIONVILLE     1   \n",
       "151               ROUTE T 3 MILES NORTH OF MARIONVILLE    16   \n",
       "\n",
       "              datetimes  Fatalities  \n",
       "0   2023-04-27 17:15:00        True  \n",
       "1   2023-04-27 17:15:00        True  \n",
       "2   2023-04-26 16:45:00        True  \n",
       "3   2023-04-22 02:50:00        True  \n",
       "4   2023-04-19 14:40:00        True  \n",
       "..                  ...         ...  \n",
       "147 2022-05-19 08:27:00        True  \n",
       "148 2022-05-17 02:34:00        True  \n",
       "149 2022-05-17 02:34:00        True  \n",
       "150 2022-05-11 01:02:00        True  \n",
       "151 2022-05-10 16:35:00        True  \n",
       "\n",
       "[152 rows x 8 columns]"
      ]
     },
     "execution_count": 114,
     "metadata": {},
     "output_type": "execute_result"
    }
   ],
   "source": [
    "crash"
   ]
  },
  {
   "cell_type": "code",
   "execution_count": 112,
   "id": "1ab06718",
   "metadata": {},
   "outputs": [
    {
     "data": {
      "text/html": [
       "<div>\n",
       "<style scoped>\n",
       "    .dataframe tbody tr th:only-of-type {\n",
       "        vertical-align: middle;\n",
       "    }\n",
       "\n",
       "    .dataframe tbody tr th {\n",
       "        vertical-align: top;\n",
       "    }\n",
       "\n",
       "    .dataframe thead th {\n",
       "        text-align: right;\n",
       "    }\n",
       "</style>\n",
       "<table border=\"1\" class=\"dataframe\">\n",
       "  <thead>\n",
       "    <tr style=\"text-align: right;\">\n",
       "      <th></th>\n",
       "      <th>Veh. #</th>\n",
       "      <th>Gender</th>\n",
       "      <th>Age</th>\n",
       "      <th>Injury Type</th>\n",
       "      <th>Safety Device</th>\n",
       "      <th>City/State</th>\n",
       "      <th>Involvement</th>\n",
       "      <th>Disposition</th>\n",
       "    </tr>\n",
       "  </thead>\n",
       "  <tbody>\n",
       "    <tr>\n",
       "      <th>0</th>\n",
       "      <td>2</td>\n",
       "      <td>MALE</td>\n",
       "      <td>49</td>\n",
       "      <td>MODERATE</td>\n",
       "      <td>YES</td>\n",
       "      <td>BROKEN ARROW, OK</td>\n",
       "      <td>DRIVER</td>\n",
       "      <td>MERCY HOSPITAL, JOPLIN, MO</td>\n",
       "    </tr>\n",
       "  </tbody>\n",
       "</table>\n",
       "</div>"
      ],
      "text/plain": [
       "   Veh. # Gender Age Injury Type Safety Device        City/State Involvement  \\\n",
       "0       2   MALE  49    MODERATE           YES  BROKEN ARROW, OK      DRIVER   \n",
       "\n",
       "                  Disposition  \n",
       "0  MERCY HOSPITAL, JOPLIN, MO  "
      ]
     },
     "execution_count": 112,
     "metadata": {},
     "output_type": "execute_result"
    }
   ],
   "source": [
    "df.head(1)"
   ]
  },
  {
   "cell_type": "code",
   "execution_count": 113,
   "id": "6ad513f4",
   "metadata": {},
   "outputs": [],
   "source": [
    "crash['Fatalities'] = (df.loc[df['Involvement'] == 'DRIVER', 'Injury Type'] == 'FATAL').any()"
   ]
  },
  {
   "cell_type": "code",
   "execution_count": 115,
   "id": "fe953e2c",
   "metadata": {},
   "outputs": [
    {
     "data": {
      "text/html": [
       "<div>\n",
       "<style scoped>\n",
       "    .dataframe tbody tr th:only-of-type {\n",
       "        vertical-align: middle;\n",
       "    }\n",
       "\n",
       "    .dataframe tbody tr th {\n",
       "        vertical-align: top;\n",
       "    }\n",
       "\n",
       "    .dataframe thead th {\n",
       "        text-align: right;\n",
       "    }\n",
       "</style>\n",
       "<table border=\"1\" class=\"dataframe\">\n",
       "  <thead>\n",
       "    <tr style=\"text-align: right;\">\n",
       "      <th></th>\n",
       "      <th>latitude</th>\n",
       "      <th>longitude</th>\n",
       "      <th>Date</th>\n",
       "      <th>Time</th>\n",
       "      <th>Location</th>\n",
       "      <th>Hour</th>\n",
       "      <th>datetimes</th>\n",
       "      <th>Fatalities</th>\n",
       "    </tr>\n",
       "  </thead>\n",
       "  <tbody>\n",
       "    <tr>\n",
       "      <th>0</th>\n",
       "      <td>37.078278</td>\n",
       "      <td>-93.877861</td>\n",
       "      <td>2023-04-27</td>\n",
       "      <td>17:15:00</td>\n",
       "      <td>I-44 WESTBOUND AT THE 42.2 MM, 3 MILES WEST OF...</td>\n",
       "      <td>17</td>\n",
       "      <td>2023-04-27 17:15:00</td>\n",
       "      <td>True</td>\n",
       "    </tr>\n",
       "    <tr>\n",
       "      <th>1</th>\n",
       "      <td>37.078278</td>\n",
       "      <td>-93.877861</td>\n",
       "      <td>2023-04-27</td>\n",
       "      <td>17:15:00</td>\n",
       "      <td>I-44 WESTBOUND AT THE 42.2 MM, 3 MILES WEST OF...</td>\n",
       "      <td>17</td>\n",
       "      <td>2023-04-27 17:15:00</td>\n",
       "      <td>True</td>\n",
       "    </tr>\n",
       "    <tr>\n",
       "      <th>2</th>\n",
       "      <td>37.086639</td>\n",
       "      <td>-93.847805</td>\n",
       "      <td>2023-04-26</td>\n",
       "      <td>16:45:00</td>\n",
       "      <td>HWY H 1/2 MILE SOUTH OF MOUNT VERNON</td>\n",
       "      <td>16</td>\n",
       "      <td>2023-04-26 16:45:00</td>\n",
       "      <td>True</td>\n",
       "    </tr>\n",
       "    <tr>\n",
       "      <th>3</th>\n",
       "      <td>37.023417</td>\n",
       "      <td>-93.969500</td>\n",
       "      <td>2023-04-22</td>\n",
       "      <td>02:50:00</td>\n",
       "      <td>COUNTY ROAD 1050 THREE MILES NORTH OF PIERCE CITY</td>\n",
       "      <td>2</td>\n",
       "      <td>2023-04-22 02:50:00</td>\n",
       "      <td>True</td>\n",
       "    </tr>\n",
       "    <tr>\n",
       "      <th>4</th>\n",
       "      <td>36.942694</td>\n",
       "      <td>-93.927277</td>\n",
       "      <td>2023-04-19</td>\n",
       "      <td>14:40:00</td>\n",
       "      <td>MO37 ONE MILE NORTH OF PIERCE CITY, MO</td>\n",
       "      <td>14</td>\n",
       "      <td>2023-04-19 14:40:00</td>\n",
       "      <td>True</td>\n",
       "    </tr>\n",
       "    <tr>\n",
       "      <th>...</th>\n",
       "      <td>...</td>\n",
       "      <td>...</td>\n",
       "      <td>...</td>\n",
       "      <td>...</td>\n",
       "      <td>...</td>\n",
       "      <td>...</td>\n",
       "      <td>...</td>\n",
       "      <td>...</td>\n",
       "    </tr>\n",
       "    <tr>\n",
       "      <th>147</th>\n",
       "      <td>37.074917</td>\n",
       "      <td>-93.965138</td>\n",
       "      <td>2022-05-19</td>\n",
       "      <td>08:27:00</td>\n",
       "      <td>I44 7 MILES WEST OF MOUNT VERNON</td>\n",
       "      <td>8</td>\n",
       "      <td>2022-05-19 08:27:00</td>\n",
       "      <td>True</td>\n",
       "    </tr>\n",
       "    <tr>\n",
       "      <th>148</th>\n",
       "      <td>37.075611</td>\n",
       "      <td>-93.975027</td>\n",
       "      <td>2022-05-17</td>\n",
       "      <td>02:34:00</td>\n",
       "      <td>EASTBOUND I44, 1 MILE WEST OF STOTTS CITY</td>\n",
       "      <td>2</td>\n",
       "      <td>2022-05-17 02:34:00</td>\n",
       "      <td>True</td>\n",
       "    </tr>\n",
       "    <tr>\n",
       "      <th>149</th>\n",
       "      <td>37.075611</td>\n",
       "      <td>-93.975027</td>\n",
       "      <td>2022-05-17</td>\n",
       "      <td>02:34:00</td>\n",
       "      <td>EASTBOUND I44, 1 MILE WEST OF STOTTS CITY</td>\n",
       "      <td>2</td>\n",
       "      <td>2022-05-17 02:34:00</td>\n",
       "      <td>True</td>\n",
       "    </tr>\n",
       "    <tr>\n",
       "      <th>150</th>\n",
       "      <td>37.024778</td>\n",
       "      <td>-93.641502</td>\n",
       "      <td>2022-05-11</td>\n",
       "      <td>01:02:00</td>\n",
       "      <td>LAWRENCE 2170 1 MILE NORTH OF MARIONVILLE</td>\n",
       "      <td>1</td>\n",
       "      <td>2022-05-11 01:02:00</td>\n",
       "      <td>True</td>\n",
       "    </tr>\n",
       "    <tr>\n",
       "      <th>151</th>\n",
       "      <td>37.060333</td>\n",
       "      <td>-93.627583</td>\n",
       "      <td>2022-05-10</td>\n",
       "      <td>16:35:00</td>\n",
       "      <td>ROUTE T 3 MILES NORTH OF MARIONVILLE</td>\n",
       "      <td>16</td>\n",
       "      <td>2022-05-10 16:35:00</td>\n",
       "      <td>True</td>\n",
       "    </tr>\n",
       "  </tbody>\n",
       "</table>\n",
       "<p>152 rows × 8 columns</p>\n",
       "</div>"
      ],
      "text/plain": [
       "      latitude  longitude       Date      Time  \\\n",
       "0    37.078278 -93.877861 2023-04-27  17:15:00   \n",
       "1    37.078278 -93.877861 2023-04-27  17:15:00   \n",
       "2    37.086639 -93.847805 2023-04-26  16:45:00   \n",
       "3    37.023417 -93.969500 2023-04-22  02:50:00   \n",
       "4    36.942694 -93.927277 2023-04-19  14:40:00   \n",
       "..         ...        ...        ...       ...   \n",
       "147  37.074917 -93.965138 2022-05-19  08:27:00   \n",
       "148  37.075611 -93.975027 2022-05-17  02:34:00   \n",
       "149  37.075611 -93.975027 2022-05-17  02:34:00   \n",
       "150  37.024778 -93.641502 2022-05-11  01:02:00   \n",
       "151  37.060333 -93.627583 2022-05-10  16:35:00   \n",
       "\n",
       "                                              Location  Hour  \\\n",
       "0    I-44 WESTBOUND AT THE 42.2 MM, 3 MILES WEST OF...    17   \n",
       "1    I-44 WESTBOUND AT THE 42.2 MM, 3 MILES WEST OF...    17   \n",
       "2                 HWY H 1/2 MILE SOUTH OF MOUNT VERNON    16   \n",
       "3    COUNTY ROAD 1050 THREE MILES NORTH OF PIERCE CITY     2   \n",
       "4               MO37 ONE MILE NORTH OF PIERCE CITY, MO    14   \n",
       "..                                                 ...   ...   \n",
       "147                   I44 7 MILES WEST OF MOUNT VERNON     8   \n",
       "148          EASTBOUND I44, 1 MILE WEST OF STOTTS CITY     2   \n",
       "149          EASTBOUND I44, 1 MILE WEST OF STOTTS CITY     2   \n",
       "150          LAWRENCE 2170 1 MILE NORTH OF MARIONVILLE     1   \n",
       "151               ROUTE T 3 MILES NORTH OF MARIONVILLE    16   \n",
       "\n",
       "              datetimes  Fatalities  \n",
       "0   2023-04-27 17:15:00        True  \n",
       "1   2023-04-27 17:15:00        True  \n",
       "2   2023-04-26 16:45:00        True  \n",
       "3   2023-04-22 02:50:00        True  \n",
       "4   2023-04-19 14:40:00        True  \n",
       "..                  ...         ...  \n",
       "147 2022-05-19 08:27:00        True  \n",
       "148 2022-05-17 02:34:00        True  \n",
       "149 2022-05-17 02:34:00        True  \n",
       "150 2022-05-11 01:02:00        True  \n",
       "151 2022-05-10 16:35:00        True  \n",
       "\n",
       "[152 rows x 8 columns]"
      ]
     },
     "execution_count": 115,
     "metadata": {},
     "output_type": "execute_result"
    }
   ],
   "source": [
    "crash.to_csv('crashTab.csv')"
   ]
  },
  {
   "cell_type": "code",
   "execution_count": null,
   "id": "21ca30b2",
   "metadata": {},
   "outputs": [],
   "source": []
  }
 ],
 "metadata": {
  "kernelspec": {
   "display_name": "Python 3 (ipykernel)",
   "language": "python",
   "name": "python3"
  },
  "language_info": {
   "codemirror_mode": {
    "name": "ipython",
    "version": 3
   },
   "file_extension": ".py",
   "mimetype": "text/x-python",
   "name": "python",
   "nbconvert_exporter": "python",
   "pygments_lexer": "ipython3",
   "version": "3.9.13"
  }
 },
 "nbformat": 4,
 "nbformat_minor": 5
}
